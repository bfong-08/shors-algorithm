{
 "cells": [
  {
   "cell_type": "markdown",
   "id": "e52d336e",
   "metadata": {},
   "source": [
    "# A Brief, High-Level Overview of Shor's Algorithm\n",
    "\n",
    "Shor's algorithm demonstrates an advantage of quantum circuits in finding factors of numbers. It employs both classical and quantum methods, showcasing various essential processes such as _quantum phase estimation,_ the _quantum Fourier transform,_ and the _continued fractions algorithm._\n"
   ]
  },
  {
   "cell_type": "markdown",
   "id": "da43b70d",
   "metadata": {},
   "source": [
    "## Classical Pre-Processing\n",
    "\n",
    "The input to the algorithm is a composite number $N$, and the goal is to find a factor of $N$.\n",
    "\n",
    "The algorithm begins by choosing a random number $a\\in\\{2,3,\\ldots,N-1\\}$. Then, the greatest common denominator between $a$ and $N$ is computed.\n",
    "\n",
    "- If $d=gcd(a, N)>1$, then $d$ is a factor and a solution is found.\n",
    "- If $d=gcd(a, N)=1$, then there may be one of three cases:\n",
    "\n",
    "  1. If $N/2$ is an integer, then $2$ is a factor and a solution is found. Classical methods can be used to determine if $N$ is divisible by $2$.\n",
    "  2. If $N$ is in the form $N=p^k$ for some integers $p\\geq2$ and $k\\geq2$ <span>&mdash;</span>that is, if $N$ is a _perfect power_<span>&mdash;</span>then $p$ is a factor and a solution is found. Classical methods can be used to determine if $N$ is a perfect power.\n",
    "  3. If $N$ is odd and _not_ a perfect power, then the algorithm must use order-finding to find potential factors.\n"
   ]
  },
  {
   "cell_type": "markdown",
   "id": "bb500f06",
   "metadata": {},
   "source": [
    "## Quantum Order-Finding\n",
    "\n",
    "The quantum order-finding algorithm uses _quantum phase estimation_ to approximate a value $k/r$, where $k\\in\\{0,1,\\ldots,r-1\\}$ is chosen uniformly at random and $r$ is the _order_ of $a$ modulo $N$. The phase comes from the operation $M_a$ which has the action $$M_a\\ket{x}=\\ket{ax\\mod N}.$$ For each eigenvector $$\\ket{\\psi_k}=\\frac{1}{\\sqrt{r}}\\sum^{r-1}_{j=0}\\omega^{-jk}_r\\ket{a^k},$$its corresponding eigenvalue is $\\omega^k_r$.\n",
    "\n",
    "The algorithm begins by initializing $m=2\\cdot\\lceil\\log_2(N)\\rceil$ control qubits to $\\ket{0^m}$ and $n=\\lceil\\log_2(N)\\rceil$ target qubits to $\\ket{1}$, which is the $n$-bit binary encoding of the number $1$. Although $\\ket{1}$ is not itself an eigenvector of $M_a$, it is a _superposition_ of the possible eigenvectors $\\{\\ket{\\psi_0},\\ldots,\\ket{\\psi_{r-1}}\\}$, which means that running the phase estimation algorithm will estimate the phase $k/r$ for a random choice of $k$.\n",
    "\n",
    "1. Apply a Hadamard gate to each control qubit.\n",
    "2. For each control qubit, apply a controlled-$M_a$ gate, doubling the power of $M_a$ for each consecutive qubit. For example, the least significant qubit applies a single controlled-$M_a$ gate, the second qubit applies a controlled-$M^2_a$ gate, the third qubit applies a controlled-$M^4_a$ gate, and so on. The final control qubit applies a controlled-$M^{2^{m-1}}_a$ gate, meaning the total number of controlled-$M_a$ gates is $2^m-1$. Because $a$ is computed modulo $N$, modular exponentiation is used to form each gate efficiently.\n",
    "3. Apply the _inverse quantum Fourier transform,_ denoted by $\\text{QFT}^\\dagger_{2^m}$, to the control qubits.\n",
    "4. Measure the $m$ control qubits. The result $y$ is a number encoded in binary such that $y/2^m$ is an approximation for $k/r$. If $\\left|\\frac{y}{2^m}-\\frac{k}{r}\\right|<\\frac{1}{2r^2}$, then $y/2^m$ is sufficient to accurately guess $r$. Using $m$ qubits should ensure with high probability that $y/2^m$ is precise enough to correctly guess $r$. If the inequality is _not_ true, then a factor will not be found and the algorithm will need to be run again.\n"
   ]
  },
  {
   "cell_type": "markdown",
   "id": "2c305fcf",
   "metadata": {},
   "source": [
    "## Classical Post-Processing\n",
    "\n",
    "Using the _continued fractions algorithm_ on $y/2^m$, estimate the order $r$ of $a$ modulo $N$. If $r$ is an even number, compute the greatest common denominator between $a^{r/2}-1$ modulo $N$ and $N$. If the greatest common denominator $d=\\text{gcd}(a^{r/2}\\pm1, N)$ is greater than $1$, then $d$ is a factor of $N$ and a solution is found. If $r$ is odd or $d=1$, then the algorithm has failed to find a factor of $N$ and must be run again.\n",
    "\n",
    "Shor's algorithm can be used recursively to split $N$ into each of its prime factors.\n"
   ]
  },
  {
   "cell_type": "markdown",
   "id": "258d2820",
   "metadata": {},
   "source": [
    "---\n"
   ]
  },
  {
   "cell_type": "markdown",
   "id": "5a8c5bf5",
   "metadata": {},
   "source": [
    "# Implementation with NumPy\n"
   ]
  },
  {
   "cell_type": "code",
   "execution_count": null,
   "id": "2b99dd0a",
   "metadata": {},
   "outputs": [],
   "source": [
    "import numpy as np"
   ]
  },
  {
   "cell_type": "markdown",
   "id": "f5a613ac",
   "metadata": {},
   "source": [
    "## Base Classes\n",
    "\n",
    "The `QuantumRegister` class will handle collections of qubits, including their initialization, evolutions, and measurements.\n"
   ]
  },
  {
   "cell_type": "code",
   "execution_count": null,
   "id": "8cb8a685",
   "metadata": {},
   "outputs": [
    {
     "name": "stderr",
     "output_type": "stream",
     "text": [
      "<>:3: SyntaxWarning: invalid escape sequence '\\k'\n",
      "<>:3: SyntaxWarning: invalid escape sequence '\\k'\n",
      "C:\\Users\\branf\\AppData\\Local\\Temp\\ipykernel_34880\\830374153.py:3: SyntaxWarning: invalid escape sequence '\\k'\n",
      "  \"\"\"\n"
     ]
    }
   ],
   "source": [
    "class QuantumRegister:\n",
    "    def __init__(self, num_qubits: int, name):\n",
    "        \"\"\"\n",
    "        Initializes a collection of qubits initialized\n",
    "        to $\\ket{0}$\n",
    "\n",
    "        Args:\n",
    "            num_qubits (int): the number of qubits in the register\n",
    "        \"\"\"\n",
    "        "
   ]
  },
  {
   "cell_type": "markdown",
   "id": "1358930d",
   "metadata": {},
   "source": [
    "# Quantum Phase Estimation\n",
    "\n",
    "The quantum estimation algorithm begins with $m=2\\cdot\\lceil\\log_2(N)\\rceil$ control qubits initialized to $\\ket{0^m}$, $n=\\lceil\\log_2(N)\\rceil$ target qubits initialized to $\\ket{1}$, and a unitary operation $M_a$.\n",
    "\n",
    "## Inverse Quantum Fourier Transform\n"
   ]
  }
 ],
 "metadata": {
  "kernelspec": {
   "display_name": ".venv",
   "language": "python",
   "name": "python3"
  },
  "language_info": {
   "codemirror_mode": {
    "name": "ipython",
    "version": 3
   },
   "file_extension": ".py",
   "mimetype": "text/x-python",
   "name": "python",
   "nbconvert_exporter": "python",
   "pygments_lexer": "ipython3",
   "version": "3.13.1"
  }
 },
 "nbformat": 4,
 "nbformat_minor": 5
}
